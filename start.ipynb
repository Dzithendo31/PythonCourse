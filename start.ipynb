{
 "cells": [
  {
   "cell_type": "markdown",
   "metadata": {},
   "source": [
    "## The Beginning\n",
    "open the Importiant things"
   ]
  },
  {
   "cell_type": "code",
   "execution_count": 4,
   "metadata": {},
   "outputs": [],
   "source": [
    "import json\n",
    "from pprint import pprint"
   ]
  },
  {
   "cell_type": "markdown",
   "metadata": {},
   "source": [
    "## open the File"
   ]
  },
  {
   "cell_type": "code",
   "execution_count": 5,
   "metadata": {},
   "outputs": [],
   "source": [
    "#Read and write toa JSON\n",
    "with open(\"day15raw.json\",\"r\") as file:\n",
    "    data = json.load(file)"
   ]
  },
  {
   "cell_type": "markdown",
   "metadata": {},
   "source": [
    "## The logic"
   ]
  },
  {
   "cell_type": "code",
   "execution_count": 7,
   "metadata": {},
   "outputs": [
    {
     "name": "stdout",
     "output_type": "stream",
     "text": [
      "[{'author': 'Alice', 'number_of_comments': 2, 'title': 'The Future of AI'},\n",
      " {'author': 'Bob', 'number_of_comments': 1, 'title': 'Learning Python'},\n",
      " {'author': 'Charlie',\n",
      "  'number_of_comments': 0,\n",
      "  'title': 'Web Development Trends'}]\n"
     ]
    }
   ],
   "source": [
    "post_summary = []\n",
    "for post in data['posts']:\n",
    "    post_sum = {}\n",
    "    post_sum['title'] = post['title']\n",
    "    post_sum['author'] = post['author']\n",
    "    post_sum['number_of_comments'] = len(post['comments'])\n",
    "    post_summary.append(post_sum)\n",
    "with open(\"posts_summary.json\", 'w') as output_file:\n",
    "    json.dump({\"posts_summary\":post_summary}, output_file, indent=4)\n",
    "pprint(post_summary)"
   ]
  }
 ],
 "metadata": {
  "kernelspec": {
   "display_name": "Python 3",
   "language": "python",
   "name": "python3"
  },
  "language_info": {
   "codemirror_mode": {
    "name": "ipython",
    "version": 3
   },
   "file_extension": ".py",
   "mimetype": "text/x-python",
   "name": "python",
   "nbconvert_exporter": "python",
   "pygments_lexer": "ipython3",
   "version": "3.10.8"
  }
 },
 "nbformat": 4,
 "nbformat_minor": 2
}
