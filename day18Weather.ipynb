{
 "cells": [
  {
   "cell_type": "markdown",
   "metadata": {},
   "source": [
    "# Weather Api"
   ]
  },
  {
   "cell_type": "code",
   "execution_count": 1,
   "metadata": {},
   "outputs": [],
   "source": [
    "import requests\n",
    "import json\n",
    "import pandas as pd"
   ]
  },
  {
   "cell_type": "code",
   "execution_count": null,
   "metadata": {},
   "outputs": [],
   "source": [
    "URL = 'http://api.weatherapi.com/v1/current.json?key=0858f7e7614a47208cb93022241503&q=Cape%20Town&aqi=no'\n",
    "response = requests.get(URL,verify=False)\n",
    "city_weather = response.json()"
   ]
  },
  {
   "cell_type": "code",
   "execution_count": 13,
   "metadata": {},
   "outputs": [],
   "source": [
    "def getCityWeather(city):\n",
    "    URL = f'http://api.weatherapi.com/v1/current.json?key=0858f7e7614a47208cb93022241503&q={city}&aqi=no'\n",
    "    response = requests.get(URL,verify=False)\n",
    "    city_weather = response.json()\n",
    "    return city_weather\n",
    "def getWeather(city):\n",
    "    city_weather = getCityWeather(city)\n",
    "    temp_in_C = city_weather['current']['temp_c']\n",
    "    return f\"The Temperature in {city} is {temp_in_C}°C\"\n",
    "\n",
    "def getWeather2(city):\n",
    "    city_weather = getCityWeather(city)\n",
    "    temp_in_C = city_weather['current']['temp_c']\n",
    "    return temp_in_C\n",
    "\n"
   ]
  },
  {
   "cell_type": "code",
   "execution_count": 14,
   "metadata": {},
   "outputs": [
    {
     "name": "stdout",
     "output_type": "stream",
     "text": [
      "The Temperature in Cape Town is 24.0°C\n"
     ]
    }
   ],
   "source": [
    "print(getWeather('Cape Town'))"
   ]
  },
  {
   "cell_type": "code",
   "execution_count": 15,
   "metadata": {},
   "outputs": [
    {
     "name": "stdout",
     "output_type": "stream",
     "text": [
      "{'Cape Town': 24.0, 'New Delhi': 28.0, 'Johannesburg': 25.0}\n"
     ]
    }
   ],
   "source": [
    "#Testing the MEthod Code\n",
    "cities = ['Cape Town','New Delhi','Johannesburg']\n",
    "dictionary = {city:getWeather2(city) for city in cities}\n",
    "print(dictionary)"
   ]
  }
 ],
 "metadata": {
  "kernelspec": {
   "display_name": "Python 3",
   "language": "python",
   "name": "python3"
  },
  "language_info": {
   "codemirror_mode": {
    "name": "ipython",
    "version": 3
   },
   "file_extension": ".py",
   "mimetype": "text/x-python",
   "name": "python",
   "nbconvert_exporter": "python",
   "pygments_lexer": "ipython3",
   "version": "3.11.8"
  }
 },
 "nbformat": 4,
 "nbformat_minor": 2
}
