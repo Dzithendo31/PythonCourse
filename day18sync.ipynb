{
 "cells": [
  {
   "cell_type": "code",
   "execution_count": 26,
   "metadata": {},
   "outputs": [],
   "source": [
    "import requests\n",
    "import json\n",
    "import pandas as pd"
   ]
  },
  {
   "cell_type": "code",
   "execution_count": 11,
   "metadata": {},
   "outputs": [
    {
     "name": "stderr",
     "output_type": "stream",
     "text": [
      "c:\\Users\\e1005282\\AppData\\Local\\Programs\\Python\\Python311\\Lib\\site-packages\\urllib3\\connectionpool.py:1103: InsecureRequestWarning: Unverified HTTPS request is being made to host 'restcountries.com'. Adding certificate verification is strongly advised. See: https://urllib3.readthedocs.io/en/latest/advanced-usage.html#tls-warnings\n",
      "  warnings.warn(\n"
     ]
    }
   ],
   "source": [
    "URL = 'https://restcountries.com/v3.1/all'\n",
    "response = requests.get(URL,verify=False)\n",
    "countries = response.json()\n",
    "\n"
   ]
  },
  {
   "cell_type": "code",
   "execution_count": 16,
   "metadata": {},
   "outputs": [
    {
     "data": {
      "text/plain": [
       "{'name': {'common': 'Cyprus',\n",
       "  'official': 'Republic of Cyprus',\n",
       "  'nativeName': {'ell': {'official': 'Δημοκρατία της Κύπρος',\n",
       "    'common': 'Κύπρος'},\n",
       "   'tur': {'official': 'Kıbrıs Cumhuriyeti', 'common': 'Kıbrıs'}}},\n",
       " 'tld': ['.cy'],\n",
       " 'cca2': 'CY',\n",
       " 'ccn3': '196',\n",
       " 'cca3': 'CYP',\n",
       " 'cioc': 'CYP',\n",
       " 'independent': True,\n",
       " 'status': 'officially-assigned',\n",
       " 'unMember': True,\n",
       " 'currencies': {'EUR': {'name': 'Euro', 'symbol': '€'}},\n",
       " 'idd': {'root': '+3', 'suffixes': ['57']},\n",
       " 'capital': ['Nicosia'],\n",
       " 'altSpellings': ['CY',\n",
       "  'Kýpros',\n",
       "  'Kıbrıs',\n",
       "  'Republic of Cyprus',\n",
       "  'Κυπριακή Δημοκρατία',\n",
       "  'Kıbrıs Cumhuriyeti'],\n",
       " 'region': 'Europe',\n",
       " 'subregion': 'Southern Europe',\n",
       " 'languages': {'ell': 'Greek', 'tur': 'Turkish'},\n",
       " 'translations': {'ara': {'official': 'جمهورية قبرص', 'common': 'قبرص'},\n",
       "  'bre': {'official': 'Republik Kiprenez', 'common': 'Kiprenez'},\n",
       "  'ces': {'official': 'Kyperská republika', 'common': 'Kypr'},\n",
       "  'cym': {'official': 'Gweriniaeth Cyprus', 'common': 'Cyprus'},\n",
       "  'deu': {'official': 'Republik Zypern', 'common': 'Zypern'},\n",
       "  'est': {'official': 'Küprose Vabariik', 'common': 'Küpros'},\n",
       "  'fin': {'official': 'Kyproksen tasavalta', 'common': 'Kypros'},\n",
       "  'fra': {'official': 'République de Chypre', 'common': 'Chypre'},\n",
       "  'hrv': {'official': 'Republika Cipar', 'common': 'Cipar'},\n",
       "  'hun': {'official': 'Ciprusi Köztársaság', 'common': 'Ciprus'},\n",
       "  'ita': {'official': 'Repubblica di Cipro', 'common': 'Cipro'},\n",
       "  'jpn': {'official': 'キプロス共和国', 'common': 'キプロス'},\n",
       "  'kor': {'official': '키프로스 공화국', 'common': '키프로스'},\n",
       "  'nld': {'official': 'Republiek Cyprus', 'common': 'Cyprus'},\n",
       "  'per': {'official': 'جمهوری قبرس', 'common': 'قِبرِس'},\n",
       "  'pol': {'official': 'Republika Cypryjska', 'common': 'Cypr'},\n",
       "  'por': {'official': 'República de Chipre', 'common': 'Chipre'},\n",
       "  'rus': {'official': 'Республика Кипр', 'common': 'Кипр'},\n",
       "  'slk': {'official': 'Cyperská republika', 'common': 'Cyprus'},\n",
       "  'spa': {'official': 'República de Chipre', 'common': 'Chipre'},\n",
       "  'srp': {'official': 'Кипарска Република', 'common': 'Кипар'},\n",
       "  'swe': {'official': 'Republiken Cypern', 'common': 'Cypern'},\n",
       "  'tur': {'official': 'Kıbrıs Cumhuriyeti', 'common': 'Kıbrıs'},\n",
       "  'urd': {'official': 'جمہوریہ قبرص', 'common': 'قبرص'},\n",
       "  'zho': {'official': '塞浦路斯共和国', 'common': '塞浦路斯'}},\n",
       " 'latlng': [35.0, 33.0],\n",
       " 'landlocked': False,\n",
       " 'area': 9251.0,\n",
       " 'demonyms': {'eng': {'f': 'Cypriot', 'm': 'Cypriot'},\n",
       "  'fra': {'f': 'Chypriote', 'm': 'Chypriote'}},\n",
       " 'flag': '🇨🇾',\n",
       " 'maps': {'googleMaps': 'https://goo.gl/maps/77hPBRdLid8yD5Bm7',\n",
       "  'openStreetMaps': 'https://www.openstreetmap.org/relation/307787'},\n",
       " 'population': 1207361,\n",
       " 'gini': {'2018': 32.7},\n",
       " 'fifa': 'CYP',\n",
       " 'car': {'signs': ['CY'], 'side': 'left'},\n",
       " 'timezones': ['UTC+02:00'],\n",
       " 'continents': ['Europe'],\n",
       " 'flags': {'png': 'https://flagcdn.com/w320/cy.png',\n",
       "  'svg': 'https://flagcdn.com/cy.svg',\n",
       "  'alt': 'The flag of Cyprus has a white field, at the center of which is a copper-colored silhouette of the Island of Cyprus above two green olive branches crossed at the stem.'},\n",
       " 'coatOfArms': {'png': 'https://mainfacts.com/media/images/coats_of_arms/cy.png',\n",
       "  'svg': 'https://mainfacts.com/media/images/coats_of_arms/cy.svg'},\n",
       " 'startOfWeek': 'monday',\n",
       " 'capitalInfo': {'latlng': [35.17, 33.37]},\n",
       " 'postalCode': {'format': '####', 'regex': '^(\\\\d{4})$'}}"
      ]
     },
     "execution_count": 16,
     "metadata": {},
     "output_type": "execute_result"
    }
   ],
   "source": [
    "countries[0]"
   ]
  },
  {
   "cell_type": "code",
   "execution_count": null,
   "metadata": {},
   "outputs": [],
   "source": [
    "#Task is to print all the country Names in a List"
   ]
  },
  {
   "cell_type": "code",
   "execution_count": 15,
   "metadata": {},
   "outputs": [
    {
     "name": "stdout",
     "output_type": "stream",
     "text": [
      "['Cyprus', 'Eritrea', 'Liberia', 'Bermuda', 'Vatican City', 'Cook Islands', 'Somalia', 'Zambia', 'Venezuela', 'Turkmenistan', 'Albania', 'Croatia', 'United Kingdom', 'Sudan', 'Timor-Leste', 'Republic of the Congo', 'Azerbaijan', 'Kenya', 'American Samoa', 'Ivory Coast', 'Senegal', 'Vietnam', 'El Salvador', 'Afghanistan', 'Saint Martin', 'Latvia', 'Guatemala', 'Kuwait', 'São Tomé and Príncipe', 'Kyrgyzstan', 'Poland', 'Guam', 'Ghana', 'Lithuania', 'Armenia', 'Jersey', 'Grenada', 'Tajikistan', 'Ethiopia', 'Western Sahara', 'Morocco', 'Puerto Rico', 'Christmas Island', 'New Zealand', 'Brunei', 'French Guiana', 'Niue', 'Romania', 'Svalbard and Jan Mayen', 'Belarus', 'Panama', 'Cameroon', 'Czechia', 'Saint Barthélemy', 'Greece', 'Mali', 'Martinique', 'France', 'Pakistan', 'Peru', 'Barbados', 'Greenland', 'Saint Pierre and Miquelon', 'Chad', 'Hungary', 'Comoros', 'Bangladesh', 'Tokelau', 'Fiji', 'China', 'Colombia', 'British Virgin Islands', 'Algeria', 'Maldives', 'Malaysia', 'Cayman Islands', 'Spain', 'Ireland', 'Estonia', 'Paraguay', 'Uruguay', 'South Africa', 'Saint Lucia', 'Vanuatu', 'Finland', 'Sweden', 'British Indian Ocean Territory', 'Lebanon', 'United States', 'Chile', 'Norfolk Island', 'Montserrat', 'Australia', 'Belize', 'Guyana', 'Mongolia', 'Tuvalu', 'Dominican Republic', 'Equatorial Guinea', 'Saint Kitts and Nevis', 'Bolivia', 'Nepal', 'French Southern and Antarctic Lands', 'Taiwan', 'Benin', 'Bulgaria', 'Moldova', 'Isle of Man', 'Bhutan', 'Cambodia', 'Antigua and Barbuda', 'Haiti', 'Cape Verde', 'Georgia', 'Burundi', 'Bahamas', 'Mauritius', 'Libya', 'Malawi', 'Mexico', 'Eswatini', 'Papua New Guinea', 'Dominica', 'Liechtenstein', 'Russia', 'Israel', 'Singapore', 'Uganda', 'Slovakia', 'Tonga', 'United Arab Emirates', 'Mayotte', 'Suriname', 'Uzbekistan', 'Saudi Arabia', 'Egypt', 'Italy', 'Madagascar', 'New Caledonia', 'Canada', 'United States Virgin Islands', 'Marshall Islands', 'Mauritania', 'Gambia', 'Trinidad and Tobago', 'Seychelles', 'Japan', 'Brazil', 'Syria', 'Saint Helena, Ascension and Tristan da Cunha', 'Tanzania', 'Andorra', 'Iran', 'Togo', 'Malta', 'South Korea', 'Samoa', 'Germany', 'Niger', 'Bouvet Island', 'Jamaica', 'Nicaragua', 'Guinea', 'Anguilla', 'Åland Islands', 'Belgium', 'Portugal', 'Denmark', 'Philippines', 'Wallis and Futuna', 'Austria', 'Guinea-Bissau', 'Monaco', 'Namibia', 'United States Minor Outlying Islands', 'Costa Rica', 'Bosnia and Herzegovina', 'Macau', 'Mozambique', 'Réunion', 'Montenegro', 'North Korea', 'Northern Mariana Islands', 'Ukraine', 'Iraq', 'South Georgia', 'Angola', 'Sierra Leone', 'Micronesia', 'Cuba', 'Turks and Caicos Islands', 'Serbia', 'Ecuador', 'Faroe Islands', 'Antarctica', 'Palestine', 'Turkey', 'Kiribati', 'Kazakhstan', 'Gibraltar', 'Iceland', 'Palau', 'Qatar', 'Switzerland', 'French Polynesia', 'Pitcairn Islands', 'Jordan', 'Myanmar', 'Thailand', 'Caribbean Netherlands', 'Aruba', 'Guadeloupe', 'Nigeria', 'Bahrain', 'Laos', 'Cocos (Keeling) Islands', 'Djibouti', 'Solomon Islands', 'Heard Island and McDonald Islands', 'India', 'San Marino', 'Luxembourg', 'Sint Maarten', 'Falkland Islands', 'Central African Republic', 'Botswana', 'Curaçao', 'Guernsey', 'Norway', 'Gabon', 'Zimbabwe', 'Lesotho', 'Slovenia', 'Argentina', 'Burkina Faso', 'Yemen', 'DR Congo', 'Oman', 'Indonesia', 'Nauru', 'Rwanda', 'North Macedonia', 'Kosovo', 'Netherlands', 'Tunisia', 'South Sudan', 'Honduras', 'Saint Vincent and the Grenadines', 'Sri Lanka', 'Hong Kong']\n"
     ]
    }
   ],
   "source": [
    "countrNames = [country['name']['common'] for country in countries]\n",
    "print(countrNames)"
   ]
  },
  {
   "cell_type": "markdown",
   "metadata": {},
   "source": [
    "## Task 02\n",
    "Find the Countries with pupulation more than 10_000_000 and sorted by population"
   ]
  },
  {
   "cell_type": "code",
   "execution_count": 24,
   "metadata": {},
   "outputs": [
    {
     "name": "stdout",
     "output_type": "stream",
     "text": [
      "['China', 'India', 'United States', 'Indonesia', 'Pakistan', 'Brazil', 'Nigeria', 'Bangladesh', 'Russia', 'Mexico', 'Japan', 'Ethiopia', 'Philippines', 'DR Congo', 'Egypt', 'Vietnam', 'Turkey', 'Iran', 'Germany', 'Thailand', 'France', 'United Kingdom', 'Tanzania', 'Italy', 'South Africa', 'Myanmar', 'Kenya', 'South Korea', 'Colombia', 'Spain', 'Uganda', 'Argentina', 'Algeria', 'Ukraine', 'Sudan', 'Iraq', 'Afghanistan', 'Canada', 'Poland', 'Morocco', 'Saudi Arabia', 'Uzbekistan', 'Peru', 'Angola', 'Malaysia', 'Mozambique', 'Ghana', 'Yemen', 'Nepal', 'Venezuela', 'Madagascar', 'Cameroon', 'Ivory Coast', 'North Korea', 'Australia', 'Niger', 'Taiwan', 'Sri Lanka', 'Burkina Faso', 'Mali', 'Romania', 'Malawi', 'Chile', 'Kazakhstan', 'Zambia', 'Ecuador', 'Syria', 'Guatemala', 'Senegal', 'Cambodia', 'Netherlands', 'Chad', 'Somalia', 'Zimbabwe', 'Guinea', 'Rwanda', 'Benin', 'Burundi', 'Tunisia', 'Bolivia', 'Belgium', 'Haiti', 'Cuba', 'South Sudan', 'Dominican Republic', 'Greece', 'Czechia', 'Sweden', 'Portugal', 'Jordan', 'Azerbaijan']\n"
     ]
    }
   ],
   "source": [
    "#Sort first\n",
    "countriesSorted = sorted(countries,key=lambda x:x['population'],reverse=True)\n",
    "countrNames = [country['name']['common'] for country in countriesSorted if country['population']>10_000_000]\n",
    "print(countrNames)"
   ]
  },
  {
   "cell_type": "code",
   "execution_count": 28,
   "metadata": {},
   "outputs": [],
   "source": [
    "#Use pandas\n",
    "data_df = pd.DataFrame(countries)\n",
    "# data_df.head(10)"
   ]
  },
  {
   "cell_type": "code",
   "execution_count": 46,
   "metadata": {},
   "outputs": [
    {
     "data": {
      "text/plain": [
       "['China',\n",
       " 'India',\n",
       " 'United States',\n",
       " 'Indonesia',\n",
       " 'Pakistan',\n",
       " 'Brazil',\n",
       " 'Nigeria',\n",
       " 'Bangladesh',\n",
       " 'Russia',\n",
       " 'Mexico',\n",
       " 'Japan',\n",
       " 'Ethiopia',\n",
       " 'Philippines',\n",
       " 'DR Congo',\n",
       " 'Egypt',\n",
       " 'Vietnam',\n",
       " 'Turkey',\n",
       " 'Iran',\n",
       " 'Germany',\n",
       " 'Thailand',\n",
       " 'France',\n",
       " 'United Kingdom',\n",
       " 'Tanzania',\n",
       " 'Italy',\n",
       " 'South Africa',\n",
       " 'Myanmar',\n",
       " 'Kenya',\n",
       " 'South Korea',\n",
       " 'Colombia',\n",
       " 'Spain',\n",
       " 'Uganda',\n",
       " 'Argentina',\n",
       " 'Algeria',\n",
       " 'Ukraine',\n",
       " 'Sudan',\n",
       " 'Iraq',\n",
       " 'Afghanistan',\n",
       " 'Canada',\n",
       " 'Poland',\n",
       " 'Morocco',\n",
       " 'Saudi Arabia',\n",
       " 'Uzbekistan',\n",
       " 'Peru',\n",
       " 'Angola',\n",
       " 'Malaysia',\n",
       " 'Mozambique',\n",
       " 'Ghana',\n",
       " 'Yemen',\n",
       " 'Nepal',\n",
       " 'Venezuela',\n",
       " 'Madagascar',\n",
       " 'Cameroon',\n",
       " 'Ivory Coast',\n",
       " 'North Korea',\n",
       " 'Australia',\n",
       " 'Niger',\n",
       " 'Taiwan',\n",
       " 'Sri Lanka',\n",
       " 'Burkina Faso',\n",
       " 'Mali',\n",
       " 'Romania',\n",
       " 'Malawi',\n",
       " 'Chile',\n",
       " 'Kazakhstan',\n",
       " 'Zambia',\n",
       " 'Ecuador',\n",
       " 'Syria',\n",
       " 'Guatemala',\n",
       " 'Senegal',\n",
       " 'Cambodia',\n",
       " 'Netherlands',\n",
       " 'Chad',\n",
       " 'Somalia',\n",
       " 'Zimbabwe',\n",
       " 'Guinea',\n",
       " 'Rwanda',\n",
       " 'Benin',\n",
       " 'Burundi',\n",
       " 'Tunisia',\n",
       " 'Bolivia',\n",
       " 'Belgium',\n",
       " 'Haiti',\n",
       " 'Cuba',\n",
       " 'South Sudan',\n",
       " 'Dominican Republic',\n",
       " 'Greece',\n",
       " 'Czechia',\n",
       " 'Sweden',\n",
       " 'Portugal',\n",
       " 'Jordan',\n",
       " 'Azerbaijan']"
      ]
     },
     "execution_count": 46,
     "metadata": {},
     "output_type": "execute_result"
    }
   ],
   "source": [
    "data_df_sorted = data_df.sort_values(by='population',ascending=False)\n",
    "dataList = (data_df_sorted[data_df_sorted['population']>10_000_000]['name']).tolist()\n",
    "[country['common'] for country in dataList]"
   ]
  },
  {
   "cell_type": "code",
   "execution_count": null,
   "metadata": {},
   "outputs": [],
   "source": [
    "import pandas as pd\n",
    " \n",
    "countries_df =  pd.DataFrame(countries)\n",
    "# countries_df.info()\n",
    "countries_df.head(5)\n",
    "# Pre-processing\n",
    "countries_df[['name', 'population']]\n",
    "countries_df['common_name'] = countries_df['name'].apply(lambda x: x['common'])\n",
    "countries_df[['name', 'population', \"common_name\"]]\n",
    " \n",
    "top_populated_countries_sorted = countries_df[countries_df['population'] >=  10_000_000].sort_values(by=\"population\", ascending=False)\n",
    "top_populated_countries_sorted['common_name'].to_list()"
   ]
  },
  {
   "cell_type": "markdown",
   "metadata": {},
   "source": [
    "## Task 3"
   ]
  },
  {
   "cell_type": "code",
   "execution_count": null,
   "metadata": {},
   "outputs": [],
   "source": [
    "nums = 1\n",
    "for country in countriesSorted:\n",
    "    if country['population']>10_000_000:\n",
    "        print(f\"{nums}. {country['name']['common']:<20}- {country['population']}\")\n",
    "        nums +=1"
   ]
  },
  {
   "cell_type": "markdown",
   "metadata": {},
   "source": [
    "# Task get the Top 10"
   ]
  },
  {
   "cell_type": "code",
   "execution_count": 50,
   "metadata": {},
   "outputs": [
    {
     "name": "stdout",
     "output_type": "stream",
     "text": [
      "1. China               - 1402112000\n",
      "2. India               - 1380004385\n",
      "3. United States       - 329484123\n",
      "4. Indonesia           - 273523621\n",
      "5. Pakistan            - 220892331\n",
      "6. Brazil              - 212559409\n",
      "7. Nigeria             - 206139587\n",
      "8. Bangladesh          - 164689383\n",
      "9. Russia              - 144104080\n",
      "10. Mexico              - 128932753\n"
     ]
    }
   ],
   "source": [
    "nums = 1\n",
    "for i in range(10):\n",
    "    country = countriesSorted[i]\n",
    "    if country['population']>10_000_000:\n",
    "        print(f\"{nums}. {country['name']['common']:<20}- {country['population']}\")\n",
    "        nums +=1"
   ]
  },
  {
   "cell_type": "code",
   "execution_count": null,
   "metadata": {},
   "outputs": [],
   "source": [
    "#Version 2\n",
    "\n",
    "countries_df['common_name'] = countries_df['name'].apply(lambda x: x['common'])\n",
    "top_10 = countries_df.iloc[:10].loc[:,['population', \"common_name\"]]\n",
    "print(top_10)\n",
    "nums = 0\n",
    "for country in top_10:\n",
    "    print(country)\n",
    "    #print(f\"{nums}. {country['common_name']:<20}- {country['population']}\")\n",
    "    nums +=1"
   ]
  },
  {
   "cell_type": "markdown",
   "metadata": {},
   "source": [
    "## Free Weather API\n",
    "https://www.weatherapi.com/"
   ]
  },
  {
   "cell_type": "code",
   "execution_count": null,
   "metadata": {},
   "outputs": [],
   "source": []
  }
 ],
 "metadata": {
  "kernelspec": {
   "display_name": "Python 3",
   "language": "python",
   "name": "python3"
  },
  "language_info": {
   "codemirror_mode": {
    "name": "ipython",
    "version": 3
   },
   "file_extension": ".py",
   "mimetype": "text/x-python",
   "name": "python",
   "nbconvert_exporter": "python",
   "pygments_lexer": "ipython3",
   "version": "3.11.8"
  }
 },
 "nbformat": 4,
 "nbformat_minor": 2
}
